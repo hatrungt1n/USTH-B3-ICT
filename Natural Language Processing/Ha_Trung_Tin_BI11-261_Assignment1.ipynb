{
  "cells": [
    {
      "attachments": {},
      "cell_type": "markdown",
      "metadata": {
        "id": "WXSfxa6jQvFU"
      },
      "source": [
        "# Perceptron Algorithm for Text Classification\n",
        "\n",
        "January 6, 2023\n",
        "\n",
        "Your name: Ha Trung Tin\n",
        "\n",
        "Student ID: BI11-261\n",
        "\n",
        "**Due: 23:59 January 15, 2023**\n",
        "\n",
        "## How to submit\n",
        "\n",
        "- Attach notebook file (.ipynb) and submit your work to Google Class Room \n",
        "- Name your file as YourName_StudentID_Assignment1.ibynb. E.g., Nguyen_Van_A_ST099834_Assignment1.ipynb\n",
        "- Copying others' assignments is strictly prohibited.\n",
        "- Write your name and student ID into this notebook\n"
      ]
    },
    {
      "cell_type": "markdown",
      "metadata": {
        "id": "CONyRgxLSPbL"
      },
      "source": [
        "## Task Description\n",
        "\n",
        "- We will train a binary classification model to determine that a title is about a person. We will use the train dataset [here](https://raw.githubusercontent.com/neubig/nlptutorial/master/data/titles-en-train.labeled)\n",
        "- We will evaluate the model on a [test dataset](https://raw.githubusercontent.com/neubig/nlptutorial/master/data/titles-en-test.labeled). We use accuracy as the evaluation measure."
      ]
    },
    {
      "cell_type": "markdown",
      "metadata": {
        "id": "P8f5N_znSTzv"
      },
      "source": [
        "## Downloading dataset"
      ]
    },
    {
      "cell_type": "code",
      "execution_count": 1,
      "metadata": {
        "id": "v5aks5DnSyal"
      },
      "outputs": [],
      "source": [
        "%%capture\n",
        "!rm -f titles-en-train.labeled\n",
        "!rm -f titles-en-test.labeled\n",
        "\n",
        "!wget https://raw.githubusercontent.com/neubig/nlptutorial/master/data/titles-en-train.labeled\n",
        "!wget https://raw.githubusercontent.com/neubig/nlptutorial/master/data/titles-en-test.labeled"
      ]
    },
    {
      "cell_type": "markdown",
      "metadata": {
        "id": "8yIjkHPySzVy"
      },
      "source": [
        "Each sample is written in a line. There are two labels {1, -1} in the data.\n",
        "\n",
        "```\n",
        "1\tFUJIWARA no Chikamori ( year of birth and death unknown ) was a samurai and poet who lived at the end of the Heian period .\n",
        "-1\tYomi is the world of the dead .\n",
        "```"
      ]
    },
    {
      "cell_type": "markdown",
      "metadata": {
        "id": "6tWeuXH5S2Vq"
      },
      "source": [
        "## Loading Data\n",
        "\n",
        "We will load data into a list of sentences with their labels."
      ]
    },
    {
      "cell_type": "code",
      "execution_count": 2,
      "metadata": {
        "id": "hJ4kiQMVS5TR"
      },
      "outputs": [],
      "source": [
        "def load_data(file_path):\n",
        "    data = []\n",
        "    with open(file_path, 'r', encoding='utf-8', errors='ignore') as f:\n",
        "        for line in f:\n",
        "            line = line.strip()\n",
        "            if line == '':\n",
        "                continue\n",
        "            lb, text = line.split('\\t')\n",
        "            data.append((text,int(lb)))\n",
        "            \n",
        "    return data"
      ]
    },
    {
      "cell_type": "markdown",
      "metadata": {
        "id": "xAcpv2SbS7EN"
      },
      "source": [
        "Loading data from files"
      ]
    },
    {
      "cell_type": "code",
      "execution_count": 3,
      "metadata": {
        "id": "2chTBZFzS-Iz"
      },
      "outputs": [],
      "source": [
        "train_data = load_data('./titles-en-train.labeled')\n",
        "test_data = load_data('./titles-en-test.labeled')"
      ]
    },
    {
      "cell_type": "code",
      "execution_count": 4,
      "metadata": {
        "colab": {
          "base_uri": "https://localhost:8080/"
        },
        "id": "Rl8pw2csS_ca",
        "outputId": "e02403e4-002c-428f-dc7f-c0eadbe840b6"
      },
      "outputs": [
        {
          "data": {
            "text/plain": [
              "('FUJIWARA no Chikamori ( year of birth and death unknown ) was a samurai and poet who lived at the end of the Heian period .',\n",
              " 1)"
            ]
          },
          "execution_count": 4,
          "metadata": {},
          "output_type": "execute_result"
        }
      ],
      "source": [
        "train_data[0]"
      ]
    },
    {
      "cell_type": "markdown",
      "metadata": {
        "id": "UHpcwG5pTBOC"
      },
      "source": [
        "## Building Perceptron Model\n",
        "\n",
        "You will need to complete the implementation of the Perceptron class as follows."
      ]
    },
    {
      "cell_type": "code",
      "execution_count": 5,
      "metadata": {
        "id": "sIq3HDzLTbst"
      },
      "outputs": [],
      "source": [
        "\"\"\"\n",
        "Implementation of Perceptron model\n",
        "\"\"\"\n",
        "from collections import defaultdict\n",
        "\n",
        "class Perceptron:\n",
        "    \"\"\"Perceptron classifier\n",
        "    \"\"\"\n",
        "    def __init__(self, eta=0.001, n_iter=10):\n",
        "        self.eta = eta\n",
        "        self.n_iter = n_iter\n",
        "    \n",
        "    def train(self, data):\n",
        "        \"\"\"Training the model\n",
        "\n",
        "        Parameters\n",
        "        ----------\n",
        "        data: list of tuples (x,y) where x is a sentence and y is the label\n",
        "\n",
        "        Returns\n",
        "        -------\n",
        "        self : object\n",
        "        \"\"\"\n",
        "        self.w = defaultdict(float)\n",
        "        for _ in range(self.n_iter):\n",
        "            for x, y in data:\n",
        "                phi = self.create_features(x)\n",
        "                y_pred = self.predict_one(self.w, phi)\n",
        "                if y != y_pred:\n",
        "                        self.update_weights(self.w, phi, y)\n",
        "    \n",
        "    def predict_one(self, w, phi):\n",
        "        \"\"\"\n",
        "\n",
        "        Parameters\n",
        "        ------------\n",
        "        w (dict): weights of features\n",
        "        phi (dict): features extracted from input\n",
        "\n",
        "        Returns\n",
        "        ------------\n",
        "        label for the input sentence (1 or -1)\n",
        "        \"\"\"\n",
        "        #TODO: Write your code here\n",
        "        score = 0\n",
        "        for name, value in phi.items():\n",
        "            score += value * w[name]\n",
        "        if (score >= 0):\n",
        "            return 1\n",
        "        else:\n",
        "            return -1\n",
        "        pass\n",
        "    \n",
        "    def create_features(self, x):\n",
        "        \"\"\"\n",
        "        Parameters\n",
        "        -----------------\n",
        "        x (str): Input sentence\n",
        "\n",
        "        Returns\n",
        "        -----------------\n",
        "        phi: dictionary, feature vector\n",
        "        \"\"\"\n",
        "        #TODO: Write your code here\n",
        "        phi = defaultdict(float)\n",
        "        words = x.split()\n",
        "        for word in words:\n",
        "            phi[word] += 1\n",
        "        return phi\n",
        "        pass\n",
        "\n",
        "    def update_weights(self, w, phi, y):\n",
        "        \"\"\"\n",
        "        Parameters\n",
        "        -----------------\n",
        "        w (dict): weights of features\n",
        "        phi (dict): features extracted from input\n",
        "        y (int): Gold label (1 or -1)\n",
        "\n",
        "        Returns\n",
        "        -----------------\n",
        "        None\n",
        "        \"\"\"\n",
        "        #TODO: Write your code here\n",
        "        for name, value in phi.items():\n",
        "            w[name] += self.eta * (y - self.predict_one(w, phi)) * value\n",
        "        pass\n",
        "    \n",
        "    def classify(self, x):\n",
        "        phi = self.create_features(x)\n",
        "        return self.predict_one(self.w, phi)\n",
        "    \n",
        "    def predict_all(self, test_samples):\n",
        "        y_preds = []\n",
        "        for x in test_samples:\n",
        "            y_pred = self.classify(x)\n",
        "            y_preds.append(y_pred)\n",
        "        return y_preds"
      ]
    },
    {
      "cell_type": "markdown",
      "metadata": {
        "id": "sqqTLXwPUOXq"
      },
      "source": [
        "## Training the model"
      ]
    },
    {
      "cell_type": "code",
      "execution_count": 6,
      "metadata": {
        "id": "n2VTLTtmURRE"
      },
      "outputs": [],
      "source": [
        "model = Perceptron()\n",
        "model.train(train_data)"
      ]
    },
    {
      "cell_type": "markdown",
      "metadata": {
        "id": "KrJx6LJ4UTXH"
      },
      "source": [
        "## Evaluation"
      ]
    },
    {
      "cell_type": "markdown",
      "metadata": {
        "id": "6VeO44KuUVuN"
      },
      "source": [
        "You need to evaluate the model on the test data and report the accuracy here."
      ]
    },
    {
      "cell_type": "code",
      "execution_count": 7,
      "metadata": {
        "colab": {
          "base_uri": "https://localhost:8080/"
        },
        "id": "zHacEpheUcbh",
        "outputId": "58e90256-7c25-4f9d-9a34-ec89bb80a41f"
      },
      "outputs": [
        {
          "name": "stdout",
          "output_type": "stream",
          "text": [
            "Accuracy:  0.9018774353524619\n"
          ]
        }
      ],
      "source": [
        "from sklearn import metrics\n",
        "\n",
        "X_test, y_true = zip(*test_data)\n",
        "y_preds = model.predict_all(X_test)\n",
        "\n",
        "print(\"Accuracy: \", metrics.accuracy_score(y_true, y_preds))"
      ]
    }
  ],
  "metadata": {
    "colab": {
      "provenance": []
    },
    "kernelspec": {
      "display_name": "Python 3",
      "name": "python3"
    },
    "language_info": {
      "name": "python"
    }
  },
  "nbformat": 4,
  "nbformat_minor": 0
}
