{
  "nbformat": 4,
  "nbformat_minor": 0,
  "metadata": {
    "colab": {
      "provenance": []
    },
    "kernelspec": {
      "name": "python3",
      "display_name": "Python 3"
    },
    "language_info": {
      "name": "python"
    },
    "widgets": {
      "application/vnd.jupyter.widget-state+json": {
        "a008736e6ac14bad9036135df4ac52e8": {
          "model_module": "@jupyter-widgets/controls",
          "model_name": "HBoxModel",
          "model_module_version": "1.5.0",
          "state": {
            "_dom_classes": [],
            "_model_module": "@jupyter-widgets/controls",
            "_model_module_version": "1.5.0",
            "_model_name": "HBoxModel",
            "_view_count": null,
            "_view_module": "@jupyter-widgets/controls",
            "_view_module_version": "1.5.0",
            "_view_name": "HBoxView",
            "box_style": "",
            "children": [
              "IPY_MODEL_a89ab31181da49068c0d4fe1fe8642d0",
              "IPY_MODEL_aa745a0a28654316aa4b1a906b464ce5",
              "IPY_MODEL_f2833796525d48ecaa41af5e1944c74c"
            ],
            "layout": "IPY_MODEL_a046a4546115423894c41d51b709df68"
          }
        },
        "a89ab31181da49068c0d4fe1fe8642d0": {
          "model_module": "@jupyter-widgets/controls",
          "model_name": "HTMLModel",
          "model_module_version": "1.5.0",
          "state": {
            "_dom_classes": [],
            "_model_module": "@jupyter-widgets/controls",
            "_model_module_version": "1.5.0",
            "_model_name": "HTMLModel",
            "_view_count": null,
            "_view_module": "@jupyter-widgets/controls",
            "_view_module_version": "1.5.0",
            "_view_name": "HTMLView",
            "description": "",
            "description_tooltip": null,
            "layout": "IPY_MODEL_84cf4b6976d14974bfa3de23402f8544",
            "placeholder": "​",
            "style": "IPY_MODEL_91771307c18f4018905403055c4710a7",
            "value": "Epoch: 100%"
          }
        },
        "aa745a0a28654316aa4b1a906b464ce5": {
          "model_module": "@jupyter-widgets/controls",
          "model_name": "FloatProgressModel",
          "model_module_version": "1.5.0",
          "state": {
            "_dom_classes": [],
            "_model_module": "@jupyter-widgets/controls",
            "_model_module_version": "1.5.0",
            "_model_name": "FloatProgressModel",
            "_view_count": null,
            "_view_module": "@jupyter-widgets/controls",
            "_view_module_version": "1.5.0",
            "_view_name": "ProgressView",
            "bar_style": "success",
            "description": "",
            "description_tooltip": null,
            "layout": "IPY_MODEL_dce85b7a77fe43d097ffbccaf3e1922a",
            "max": 5,
            "min": 0,
            "orientation": "horizontal",
            "style": "IPY_MODEL_c75c8001194b40858cc19ad012ec3ef2",
            "value": 5
          }
        },
        "f2833796525d48ecaa41af5e1944c74c": {
          "model_module": "@jupyter-widgets/controls",
          "model_name": "HTMLModel",
          "model_module_version": "1.5.0",
          "state": {
            "_dom_classes": [],
            "_model_module": "@jupyter-widgets/controls",
            "_model_module_version": "1.5.0",
            "_model_name": "HTMLModel",
            "_view_count": null,
            "_view_module": "@jupyter-widgets/controls",
            "_view_module_version": "1.5.0",
            "_view_name": "HTMLView",
            "description": "",
            "description_tooltip": null,
            "layout": "IPY_MODEL_22a157d0364f44d0836e91345353a605",
            "placeholder": "​",
            "style": "IPY_MODEL_14df127e6e444c3282b94aff81bdc176",
            "value": " 5/5 [12:15&lt;00:00, 148.55s/it]"
          }
        },
        "a046a4546115423894c41d51b709df68": {
          "model_module": "@jupyter-widgets/base",
          "model_name": "LayoutModel",
          "model_module_version": "1.2.0",
          "state": {
            "_model_module": "@jupyter-widgets/base",
            "_model_module_version": "1.2.0",
            "_model_name": "LayoutModel",
            "_view_count": null,
            "_view_module": "@jupyter-widgets/base",
            "_view_module_version": "1.2.0",
            "_view_name": "LayoutView",
            "align_content": null,
            "align_items": null,
            "align_self": null,
            "border": null,
            "bottom": null,
            "display": null,
            "flex": null,
            "flex_flow": null,
            "grid_area": null,
            "grid_auto_columns": null,
            "grid_auto_flow": null,
            "grid_auto_rows": null,
            "grid_column": null,
            "grid_gap": null,
            "grid_row": null,
            "grid_template_areas": null,
            "grid_template_columns": null,
            "grid_template_rows": null,
            "height": null,
            "justify_content": null,
            "justify_items": null,
            "left": null,
            "margin": null,
            "max_height": null,
            "max_width": null,
            "min_height": null,
            "min_width": null,
            "object_fit": null,
            "object_position": null,
            "order": null,
            "overflow": null,
            "overflow_x": null,
            "overflow_y": null,
            "padding": null,
            "right": null,
            "top": null,
            "visibility": null,
            "width": null
          }
        },
        "84cf4b6976d14974bfa3de23402f8544": {
          "model_module": "@jupyter-widgets/base",
          "model_name": "LayoutModel",
          "model_module_version": "1.2.0",
          "state": {
            "_model_module": "@jupyter-widgets/base",
            "_model_module_version": "1.2.0",
            "_model_name": "LayoutModel",
            "_view_count": null,
            "_view_module": "@jupyter-widgets/base",
            "_view_module_version": "1.2.0",
            "_view_name": "LayoutView",
            "align_content": null,
            "align_items": null,
            "align_self": null,
            "border": null,
            "bottom": null,
            "display": null,
            "flex": null,
            "flex_flow": null,
            "grid_area": null,
            "grid_auto_columns": null,
            "grid_auto_flow": null,
            "grid_auto_rows": null,
            "grid_column": null,
            "grid_gap": null,
            "grid_row": null,
            "grid_template_areas": null,
            "grid_template_columns": null,
            "grid_template_rows": null,
            "height": null,
            "justify_content": null,
            "justify_items": null,
            "left": null,
            "margin": null,
            "max_height": null,
            "max_width": null,
            "min_height": null,
            "min_width": null,
            "object_fit": null,
            "object_position": null,
            "order": null,
            "overflow": null,
            "overflow_x": null,
            "overflow_y": null,
            "padding": null,
            "right": null,
            "top": null,
            "visibility": null,
            "width": null
          }
        },
        "91771307c18f4018905403055c4710a7": {
          "model_module": "@jupyter-widgets/controls",
          "model_name": "DescriptionStyleModel",
          "model_module_version": "1.5.0",
          "state": {
            "_model_module": "@jupyter-widgets/controls",
            "_model_module_version": "1.5.0",
            "_model_name": "DescriptionStyleModel",
            "_view_count": null,
            "_view_module": "@jupyter-widgets/base",
            "_view_module_version": "1.2.0",
            "_view_name": "StyleView",
            "description_width": ""
          }
        },
        "dce85b7a77fe43d097ffbccaf3e1922a": {
          "model_module": "@jupyter-widgets/base",
          "model_name": "LayoutModel",
          "model_module_version": "1.2.0",
          "state": {
            "_model_module": "@jupyter-widgets/base",
            "_model_module_version": "1.2.0",
            "_model_name": "LayoutModel",
            "_view_count": null,
            "_view_module": "@jupyter-widgets/base",
            "_view_module_version": "1.2.0",
            "_view_name": "LayoutView",
            "align_content": null,
            "align_items": null,
            "align_self": null,
            "border": null,
            "bottom": null,
            "display": null,
            "flex": null,
            "flex_flow": null,
            "grid_area": null,
            "grid_auto_columns": null,
            "grid_auto_flow": null,
            "grid_auto_rows": null,
            "grid_column": null,
            "grid_gap": null,
            "grid_row": null,
            "grid_template_areas": null,
            "grid_template_columns": null,
            "grid_template_rows": null,
            "height": null,
            "justify_content": null,
            "justify_items": null,
            "left": null,
            "margin": null,
            "max_height": null,
            "max_width": null,
            "min_height": null,
            "min_width": null,
            "object_fit": null,
            "object_position": null,
            "order": null,
            "overflow": null,
            "overflow_x": null,
            "overflow_y": null,
            "padding": null,
            "right": null,
            "top": null,
            "visibility": null,
            "width": null
          }
        },
        "c75c8001194b40858cc19ad012ec3ef2": {
          "model_module": "@jupyter-widgets/controls",
          "model_name": "ProgressStyleModel",
          "model_module_version": "1.5.0",
          "state": {
            "_model_module": "@jupyter-widgets/controls",
            "_model_module_version": "1.5.0",
            "_model_name": "ProgressStyleModel",
            "_view_count": null,
            "_view_module": "@jupyter-widgets/base",
            "_view_module_version": "1.2.0",
            "_view_name": "StyleView",
            "bar_color": null,
            "description_width": ""
          }
        },
        "22a157d0364f44d0836e91345353a605": {
          "model_module": "@jupyter-widgets/base",
          "model_name": "LayoutModel",
          "model_module_version": "1.2.0",
          "state": {
            "_model_module": "@jupyter-widgets/base",
            "_model_module_version": "1.2.0",
            "_model_name": "LayoutModel",
            "_view_count": null,
            "_view_module": "@jupyter-widgets/base",
            "_view_module_version": "1.2.0",
            "_view_name": "LayoutView",
            "align_content": null,
            "align_items": null,
            "align_self": null,
            "border": null,
            "bottom": null,
            "display": null,
            "flex": null,
            "flex_flow": null,
            "grid_area": null,
            "grid_auto_columns": null,
            "grid_auto_flow": null,
            "grid_auto_rows": null,
            "grid_column": null,
            "grid_gap": null,
            "grid_row": null,
            "grid_template_areas": null,
            "grid_template_columns": null,
            "grid_template_rows": null,
            "height": null,
            "justify_content": null,
            "justify_items": null,
            "left": null,
            "margin": null,
            "max_height": null,
            "max_width": null,
            "min_height": null,
            "min_width": null,
            "object_fit": null,
            "object_position": null,
            "order": null,
            "overflow": null,
            "overflow_x": null,
            "overflow_y": null,
            "padding": null,
            "right": null,
            "top": null,
            "visibility": null,
            "width": null
          }
        },
        "14df127e6e444c3282b94aff81bdc176": {
          "model_module": "@jupyter-widgets/controls",
          "model_name": "DescriptionStyleModel",
          "model_module_version": "1.5.0",
          "state": {
            "_model_module": "@jupyter-widgets/controls",
            "_model_module_version": "1.5.0",
            "_model_name": "DescriptionStyleModel",
            "_view_count": null,
            "_view_module": "@jupyter-widgets/base",
            "_view_module_version": "1.2.0",
            "_view_name": "StyleView",
            "description_width": ""
          }
        },
        "9e158d70add241fc9ca677a8907a9e54": {
          "model_module": "@jupyter-widgets/controls",
          "model_name": "HBoxModel",
          "model_module_version": "1.5.0",
          "state": {
            "_dom_classes": [],
            "_model_module": "@jupyter-widgets/controls",
            "_model_module_version": "1.5.0",
            "_model_name": "HBoxModel",
            "_view_count": null,
            "_view_module": "@jupyter-widgets/controls",
            "_view_module_version": "1.5.0",
            "_view_name": "HBoxView",
            "box_style": "",
            "children": [
              "IPY_MODEL_ae4b521fdc614aa78200150686d5759a",
              "IPY_MODEL_0a657d734d904686b28f1ee0f0d23c18",
              "IPY_MODEL_7c6f766261224d69a82ba5452014f981"
            ],
            "layout": "IPY_MODEL_e90c85cb54824fadb121b21c439ec8c2"
          }
        },
        "ae4b521fdc614aa78200150686d5759a": {
          "model_module": "@jupyter-widgets/controls",
          "model_name": "HTMLModel",
          "model_module_version": "1.5.0",
          "state": {
            "_dom_classes": [],
            "_model_module": "@jupyter-widgets/controls",
            "_model_module_version": "1.5.0",
            "_model_name": "HTMLModel",
            "_view_count": null,
            "_view_module": "@jupyter-widgets/controls",
            "_view_module_version": "1.5.0",
            "_view_name": "HTMLView",
            "description": "",
            "description_tooltip": null,
            "layout": "IPY_MODEL_640be333fa9646babe53ed760d85f0ae",
            "placeholder": "​",
            "style": "IPY_MODEL_8e96e6112f2f4dfcb42e9a69aa0c516b",
            "value": "Evaluating: 100%"
          }
        },
        "0a657d734d904686b28f1ee0f0d23c18": {
          "model_module": "@jupyter-widgets/controls",
          "model_name": "FloatProgressModel",
          "model_module_version": "1.5.0",
          "state": {
            "_dom_classes": [],
            "_model_module": "@jupyter-widgets/controls",
            "_model_module_version": "1.5.0",
            "_model_name": "FloatProgressModel",
            "_view_count": null,
            "_view_module": "@jupyter-widgets/controls",
            "_view_module_version": "1.5.0",
            "_view_name": "ProgressView",
            "bar_style": "success",
            "description": "",
            "description_tooltip": null,
            "layout": "IPY_MODEL_8193c710c3664e03ac0ba12af0d73ea5",
            "max": 177,
            "min": 0,
            "orientation": "horizontal",
            "style": "IPY_MODEL_dadb60ea6c424de48a62978908f8f105",
            "value": 177
          }
        },
        "7c6f766261224d69a82ba5452014f981": {
          "model_module": "@jupyter-widgets/controls",
          "model_name": "HTMLModel",
          "model_module_version": "1.5.0",
          "state": {
            "_dom_classes": [],
            "_model_module": "@jupyter-widgets/controls",
            "_model_module_version": "1.5.0",
            "_model_name": "HTMLModel",
            "_view_count": null,
            "_view_module": "@jupyter-widgets/controls",
            "_view_module_version": "1.5.0",
            "_view_name": "HTMLView",
            "description": "",
            "description_tooltip": null,
            "layout": "IPY_MODEL_8207d6d8fcbc4ddc8a397483210147ce",
            "placeholder": "​",
            "style": "IPY_MODEL_80c5e5ac32a94458a6c8fafc8dd703e4",
            "value": " 177/177 [00:03&lt;00:00, 62.09it/s]"
          }
        },
        "e90c85cb54824fadb121b21c439ec8c2": {
          "model_module": "@jupyter-widgets/base",
          "model_name": "LayoutModel",
          "model_module_version": "1.2.0",
          "state": {
            "_model_module": "@jupyter-widgets/base",
            "_model_module_version": "1.2.0",
            "_model_name": "LayoutModel",
            "_view_count": null,
            "_view_module": "@jupyter-widgets/base",
            "_view_module_version": "1.2.0",
            "_view_name": "LayoutView",
            "align_content": null,
            "align_items": null,
            "align_self": null,
            "border": null,
            "bottom": null,
            "display": null,
            "flex": null,
            "flex_flow": null,
            "grid_area": null,
            "grid_auto_columns": null,
            "grid_auto_flow": null,
            "grid_auto_rows": null,
            "grid_column": null,
            "grid_gap": null,
            "grid_row": null,
            "grid_template_areas": null,
            "grid_template_columns": null,
            "grid_template_rows": null,
            "height": null,
            "justify_content": null,
            "justify_items": null,
            "left": null,
            "margin": null,
            "max_height": null,
            "max_width": null,
            "min_height": null,
            "min_width": null,
            "object_fit": null,
            "object_position": null,
            "order": null,
            "overflow": null,
            "overflow_x": null,
            "overflow_y": null,
            "padding": null,
            "right": null,
            "top": null,
            "visibility": null,
            "width": null
          }
        },
        "640be333fa9646babe53ed760d85f0ae": {
          "model_module": "@jupyter-widgets/base",
          "model_name": "LayoutModel",
          "model_module_version": "1.2.0",
          "state": {
            "_model_module": "@jupyter-widgets/base",
            "_model_module_version": "1.2.0",
            "_model_name": "LayoutModel",
            "_view_count": null,
            "_view_module": "@jupyter-widgets/base",
            "_view_module_version": "1.2.0",
            "_view_name": "LayoutView",
            "align_content": null,
            "align_items": null,
            "align_self": null,
            "border": null,
            "bottom": null,
            "display": null,
            "flex": null,
            "flex_flow": null,
            "grid_area": null,
            "grid_auto_columns": null,
            "grid_auto_flow": null,
            "grid_auto_rows": null,
            "grid_column": null,
            "grid_gap": null,
            "grid_row": null,
            "grid_template_areas": null,
            "grid_template_columns": null,
            "grid_template_rows": null,
            "height": null,
            "justify_content": null,
            "justify_items": null,
            "left": null,
            "margin": null,
            "max_height": null,
            "max_width": null,
            "min_height": null,
            "min_width": null,
            "object_fit": null,
            "object_position": null,
            "order": null,
            "overflow": null,
            "overflow_x": null,
            "overflow_y": null,
            "padding": null,
            "right": null,
            "top": null,
            "visibility": null,
            "width": null
          }
        },
        "8e96e6112f2f4dfcb42e9a69aa0c516b": {
          "model_module": "@jupyter-widgets/controls",
          "model_name": "DescriptionStyleModel",
          "model_module_version": "1.5.0",
          "state": {
            "_model_module": "@jupyter-widgets/controls",
            "_model_module_version": "1.5.0",
            "_model_name": "DescriptionStyleModel",
            "_view_count": null,
            "_view_module": "@jupyter-widgets/base",
            "_view_module_version": "1.2.0",
            "_view_name": "StyleView",
            "description_width": ""
          }
        },
        "8193c710c3664e03ac0ba12af0d73ea5": {
          "model_module": "@jupyter-widgets/base",
          "model_name": "LayoutModel",
          "model_module_version": "1.2.0",
          "state": {
            "_model_module": "@jupyter-widgets/base",
            "_model_module_version": "1.2.0",
            "_model_name": "LayoutModel",
            "_view_count": null,
            "_view_module": "@jupyter-widgets/base",
            "_view_module_version": "1.2.0",
            "_view_name": "LayoutView",
            "align_content": null,
            "align_items": null,
            "align_self": null,
            "border": null,
            "bottom": null,
            "display": null,
            "flex": null,
            "flex_flow": null,
            "grid_area": null,
            "grid_auto_columns": null,
            "grid_auto_flow": null,
            "grid_auto_rows": null,
            "grid_column": null,
            "grid_gap": null,
            "grid_row": null,
            "grid_template_areas": null,
            "grid_template_columns": null,
            "grid_template_rows": null,
            "height": null,
            "justify_content": null,
            "justify_items": null,
            "left": null,
            "margin": null,
            "max_height": null,
            "max_width": null,
            "min_height": null,
            "min_width": null,
            "object_fit": null,
            "object_position": null,
            "order": null,
            "overflow": null,
            "overflow_x": null,
            "overflow_y": null,
            "padding": null,
            "right": null,
            "top": null,
            "visibility": null,
            "width": null
          }
        },
        "dadb60ea6c424de48a62978908f8f105": {
          "model_module": "@jupyter-widgets/controls",
          "model_name": "ProgressStyleModel",
          "model_module_version": "1.5.0",
          "state": {
            "_model_module": "@jupyter-widgets/controls",
            "_model_module_version": "1.5.0",
            "_model_name": "ProgressStyleModel",
            "_view_count": null,
            "_view_module": "@jupyter-widgets/base",
            "_view_module_version": "1.2.0",
            "_view_name": "StyleView",
            "bar_color": null,
            "description_width": ""
          }
        },
        "8207d6d8fcbc4ddc8a397483210147ce": {
          "model_module": "@jupyter-widgets/base",
          "model_name": "LayoutModel",
          "model_module_version": "1.2.0",
          "state": {
            "_model_module": "@jupyter-widgets/base",
            "_model_module_version": "1.2.0",
            "_model_name": "LayoutModel",
            "_view_count": null,
            "_view_module": "@jupyter-widgets/base",
            "_view_module_version": "1.2.0",
            "_view_name": "LayoutView",
            "align_content": null,
            "align_items": null,
            "align_self": null,
            "border": null,
            "bottom": null,
            "display": null,
            "flex": null,
            "flex_flow": null,
            "grid_area": null,
            "grid_auto_columns": null,
            "grid_auto_flow": null,
            "grid_auto_rows": null,
            "grid_column": null,
            "grid_gap": null,
            "grid_row": null,
            "grid_template_areas": null,
            "grid_template_columns": null,
            "grid_template_rows": null,
            "height": null,
            "justify_content": null,
            "justify_items": null,
            "left": null,
            "margin": null,
            "max_height": null,
            "max_width": null,
            "min_height": null,
            "min_width": null,
            "object_fit": null,
            "object_position": null,
            "order": null,
            "overflow": null,
            "overflow_x": null,
            "overflow_y": null,
            "padding": null,
            "right": null,
            "top": null,
            "visibility": null,
            "width": null
          }
        },
        "80c5e5ac32a94458a6c8fafc8dd703e4": {
          "model_module": "@jupyter-widgets/controls",
          "model_name": "DescriptionStyleModel",
          "model_module_version": "1.5.0",
          "state": {
            "_model_module": "@jupyter-widgets/controls",
            "_model_module_version": "1.5.0",
            "_model_name": "DescriptionStyleModel",
            "_view_count": null,
            "_view_module": "@jupyter-widgets/base",
            "_view_module_version": "1.2.0",
            "_view_name": "StyleView",
            "description_width": ""
          }
        }
      }
    }
  },
  "cells": [
    {
      "cell_type": "markdown",
      "source": [
        "# Customized RNN model for sequence classification\n",
        "\n",
        "Your name: Ha Trung Tin\n",
        "\n",
        "Student ID: BI11-261\n",
        "\n",
        "**Due: March 27, 2023 (Hard Deadline)**\n",
        "\n",
        "*This is an optional (bonus) assignment*\n",
        "\n",
        "## How to submit\n",
        "\n",
        "- Attach notebook file (.ipynb) and submit your work to Google Class Room \n",
        "- Name your file as YourName_StudentID_Assignment5.ibynb. E.g., Nguyen_Van_A_ST099834_Assignment5.ipynb\n",
        "- Write your name and student ID into this notebook\n",
        "- Copying others' assignments is strictly prohibited.\n",
        "\n",
        "## Policy\n",
        "\n",
        "- I only grade submissions which can run successfully without syntax and run-time errors\n",
        "- Please run your notebook on Google Colab or Kaggle notebook.\n",
        "- You can change epochs to 5 to save time\n"
      ],
      "metadata": {
        "id": "U94KiNBLNi_w"
      }
    },
    {
      "cell_type": "markdown",
      "source": [
        "## Description\n",
        "\n",
        "In this assignment, we are going to build a customized RNN model for text classification. That is the extended version for the notebook [RNN for Sequence Classification](https://colab.research.google.com/drive/1qkRmcd5PI5ISWScdD0BovDSvgYYkruVc?usp=sharing).\n",
        "\n",
        "The tasks in this assignment is as follows.\n",
        "\n",
        "- Initialize Embedding layer in the RNN model with pre-trained word embeddings\n",
        "- Modify the training loop to print out averaged loss function value after each epoch."
      ],
      "metadata": {
        "id": "NV4MB9rHurDR"
      }
    },
    {
      "cell_type": "markdown",
      "source": [
        "## Set random seed"
      ],
      "metadata": {
        "id": "o6dAPAEAutW5"
      }
    },
    {
      "cell_type": "code",
      "source": [
        "import torch\n",
        "import torch.nn as nn\n",
        "import torch.nn.functional as F\n",
        "import torch.optim as optim\n",
        "\n",
        "torch.manual_seed(1)"
      ],
      "metadata": {
        "colab": {
          "base_uri": "https://localhost:8080/"
        },
        "id": "WCNsWVG0u4GW",
        "outputId": "7dba083e-de7e-4c3b-c5d1-bf4f52015af3"
      },
      "execution_count": 1,
      "outputs": [
        {
          "output_type": "execute_result",
          "data": {
            "text/plain": [
              "<torch._C.Generator at 0x7f2408b6bcd0>"
            ]
          },
          "metadata": {},
          "execution_count": 1
        }
      ]
    },
    {
      "cell_type": "markdown",
      "source": [
        "## Download & load data"
      ],
      "metadata": {
        "id": "PpLv0rGSu4vX"
      }
    },
    {
      "cell_type": "code",
      "source": [
        "%%capture\n",
        "!rm -f titles-en-train.labeled\n",
        "!rm -f titles-en-test.labeled\n",
        "\n",
        "!wget https://raw.githubusercontent.com/neubig/nlptutorial/master/data/titles-en-train.labeled\n",
        "!wget https://raw.githubusercontent.com/neubig/nlptutorial/master/data/titles-en-test.labeled"
      ],
      "metadata": {
        "id": "J0r44Yacu9WD"
      },
      "execution_count": 2,
      "outputs": []
    },
    {
      "cell_type": "code",
      "source": [
        "def load_data(file_path):\n",
        "    data = []\n",
        "    with open(file_path, 'r', encoding='utf-8', errors='ignore') as f:\n",
        "        for line in f:\n",
        "            line = line.strip()\n",
        "            if line == '':\n",
        "                continue\n",
        "            lb, text = line.split('\\t')\n",
        "            data.append((text,int(lb)))\n",
        "            \n",
        "    return data\n",
        "\n",
        "train_data = load_data('./titles-en-train.labeled')\n",
        "test_data = load_data('./titles-en-test.labeled')\n",
        "\n",
        "train_docs, train_labels = zip(*train_data)\n",
        "test_docs, test_labels = zip(*test_data)"
      ],
      "metadata": {
        "id": "Jy3PbYn7vDJw"
      },
      "execution_count": 3,
      "outputs": []
    },
    {
      "cell_type": "markdown",
      "source": [
        "## Data Transformation"
      ],
      "metadata": {
        "id": "niLadkNyvGOL"
      }
    },
    {
      "cell_type": "markdown",
      "source": [
        "### Vocabulary\n"
      ],
      "metadata": {
        "id": "HfmaqTSOvPNE"
      }
    },
    {
      "cell_type": "code",
      "source": [
        "from collections import defaultdict\n",
        "\n",
        "class Vocabulary:\n",
        "    def __init__(self, token_to_idx=None):\n",
        "        \"\"\"\n",
        "        Args:\n",
        "            token_to_idx (dict): a pre-existing map of tokens to indices\n",
        "        \"\"\"\n",
        "        if token_to_idx is None:\n",
        "            token_to_idx = {}\n",
        "        self._token_to_idx = token_to_idx\n",
        "\n",
        "        self._idx_to_token = {idx: token \n",
        "                              for token, idx in self._token_to_idx.items()}\n",
        "        \n",
        "        self.pad_index = 0\n",
        "        self.unk_index = 1\n",
        "\n",
        "    def lookup_token(self, token):\n",
        "        \"\"\"Retrieve the index associated with the token \n",
        "          or the UNK index if token isn't present.\n",
        "        \n",
        "        Args:\n",
        "            token (str): the token to look up \n",
        "        Returns:\n",
        "            index (int): the index corresponding to the token\n",
        "        Notes:\n",
        "            `unk_index` needs to be >=0 (having been added into the Vocabulary) \n",
        "              for the UNK functionality \n",
        "        \"\"\"\n",
        "        if self.unk_index >= 0:\n",
        "            return self._token_to_idx.get(token, self.unk_index)\n",
        "        else:\n",
        "            return self._token_to_idx[token]\n",
        "    \n",
        "    def lookup_index(self, index):\n",
        "        \"\"\"Return the token associated with the index\n",
        "        \n",
        "        Args: \n",
        "            index (int): the index to look up\n",
        "        Returns:\n",
        "            token (str): the token corresponding to the index\n",
        "        Raises:\n",
        "            KeyError: if the index is not in the Vocabulary\n",
        "        \"\"\"\n",
        "        if index not in self._idx_to_token:\n",
        "            raise KeyError(\"the index (%d) is not in the Vocabulary\" % index)\n",
        "        return self._idx_to_token[index]\n",
        "    \n",
        "    def add_token(self, token):\n",
        "        \"\"\"Update mapping dicts based on the token.\n",
        "\n",
        "        Args:\n",
        "            token (str): the item to add into the Vocabulary\n",
        "        Returns:\n",
        "            index (int): the integer corresponding to the token\n",
        "        \"\"\"\n",
        "        if token in self._token_to_idx:\n",
        "            index = self._token_to_idx[token]\n",
        "        else:\n",
        "            index = len(self._token_to_idx)\n",
        "            self._token_to_idx[token] = index\n",
        "            self._idx_to_token[index] = token\n",
        "        return index\n",
        "\n",
        "    @classmethod\n",
        "    def build_vocab(cls, sentences):\n",
        "        \"\"\"Build vocabulary from a list of sentences\n",
        "\n",
        "        Arguments:\n",
        "        ----------\n",
        "            sentences (list): list of sentences, each sentence is a string\n",
        "        \n",
        "        Return:\n",
        "        ----------\n",
        "            vocab (Vocabulary): a Vocabulary object\n",
        "        \"\"\"\n",
        "        token_to_idx = {\"<PAD>\": 0, \"<UNK>\": 1}\n",
        "        vocab = cls(token_to_idx)\n",
        "\n",
        "        for s in sentences:\n",
        "            for word in s.split():\n",
        "                vocab.add_token(word)\n",
        "        return vocab\n",
        "\n",
        "    def __str__(self):\n",
        "        return \"<Vocabulary(size=%d)>\" % len(self)\n",
        "\n",
        "    def __len__(self):\n",
        "        return len(self._token_to_idx)"
      ],
      "metadata": {
        "id": "oFJaSFy7vMCY"
      },
      "execution_count": 4,
      "outputs": []
    },
    {
      "cell_type": "code",
      "source": [
        "vocab = Vocabulary.build_vocab(train_docs)\n",
        "print(vocab)"
      ],
      "metadata": {
        "colab": {
          "base_uri": "https://localhost:8080/"
        },
        "id": "LhLikk2evRld",
        "outputId": "35256732-ff83-4983-a690-1f27c615a6dc"
      },
      "execution_count": 5,
      "outputs": [
        {
          "output_type": "stream",
          "name": "stdout",
          "text": [
            "<Vocabulary(size=27192)>\n"
          ]
        }
      ]
    },
    {
      "cell_type": "markdown",
      "source": [
        "### Data Vectorization"
      ],
      "metadata": {
        "id": "R2QEmVakvVRG"
      }
    },
    {
      "cell_type": "code",
      "source": [
        "import torch\n",
        "import numpy as np\n",
        "\n",
        "def vectorize(vocab, title):\n",
        "    \"\"\"\n",
        "    Args:\n",
        "        vocab (Vocabulary)\n",
        "        title (str): the string of characters\n",
        "        max_length (int): an argument for forcing the length of index vector\n",
        "    \"\"\"\n",
        "    indices = [vocab.lookup_token(token) for token in title.split()]\n",
        "    \n",
        "    return torch.tensor(indices)"
      ],
      "metadata": {
        "id": "M3iOVIFevXQ_"
      },
      "execution_count": 6,
      "outputs": []
    },
    {
      "cell_type": "code",
      "source": [
        "train_data = [vectorize(vocab, t) for t in train_docs]\n",
        "test_data = [vectorize(vocab, t) for t in test_docs]"
      ],
      "metadata": {
        "id": "KwGbrINhvZUx"
      },
      "execution_count": 7,
      "outputs": []
    },
    {
      "cell_type": "markdown",
      "source": [
        "### Label Mapping"
      ],
      "metadata": {
        "id": "4-CR6Eaxve-K"
      }
    },
    {
      "cell_type": "code",
      "source": [
        "label2idx = {\n",
        "    -1: 0, 1: 1\n",
        "}\n",
        "train_y = [label2idx[lb] for lb in train_labels]\n",
        "test_y = [label2idx[lb] for lb in test_labels]"
      ],
      "metadata": {
        "id": "k1Gg2YzIvfgd"
      },
      "execution_count": 8,
      "outputs": []
    },
    {
      "cell_type": "markdown",
      "source": [
        "### Dataset class\n",
        "\n",
        "In order to put data into DataLoader, we need to implement a custom Dataset class that inherite [Dataset class](https://pytorch.org/tutorials/beginner/basics/data_tutorial.html)\n",
        "\n",
        "It is required to implement two functions `__len__` and `__getitem__`"
      ],
      "metadata": {
        "id": "naK37_unvgnV"
      }
    },
    {
      "cell_type": "code",
      "source": [
        "from torch.utils.data import Dataset, DataLoader\n",
        "\n",
        "class TextDataset(Dataset):\n",
        "\n",
        "    def __init__(self, sequences, labels):\n",
        "        self.sequences = sequences\n",
        "        self.labels = labels\n",
        "    \n",
        "    def __len__(self):\n",
        "        return len(self.labels)\n",
        "    \n",
        "    def __getitem__(self, index):\n",
        "        x = self.sequences[index]\n",
        "        y = self.labels[index]\n",
        "\n",
        "        return x, y"
      ],
      "metadata": {
        "id": "2h9Odv5Vvi6R"
      },
      "execution_count": 9,
      "outputs": []
    },
    {
      "cell_type": "code",
      "source": [
        "train_dataset = TextDataset(train_data, train_y)\n",
        "test_dataset = TextDataset(test_data, test_y)"
      ],
      "metadata": {
        "id": "J8PCcdzDvkjN"
      },
      "execution_count": 10,
      "outputs": []
    },
    {
      "cell_type": "markdown",
      "source": [
        "### Create DataLoader\n",
        "\n",
        "We need to define function for processing batches generated by DataLoader"
      ],
      "metadata": {
        "id": "1Zi-UZZvvmsg"
      }
    },
    {
      "cell_type": "code",
      "source": [
        "from torch.nn.utils.rnn import pad_sequence\n",
        "\n",
        "def collate_batch(batch):\n",
        "    \"\"\"Processing a batch generated by DataLoader\n",
        "\n",
        "    Arguments:\n",
        "    -----\n",
        "        batch (torch.tensor): a tensor generated by DataLoader\n",
        "    \"\"\"\n",
        "    (x, y) = zip(*batch)\n",
        "    x_lens = torch.tensor([len(x) for x in x])\n",
        "    y = torch.tensor(y, dtype=torch.float32)\n",
        "    \n",
        "    x_pad = pad_sequence(x, batch_first=True, padding_value=0)\n",
        "\n",
        "    return x_pad, x_lens, y"
      ],
      "metadata": {
        "id": "qmOiBKSbvpT7"
      },
      "execution_count": 11,
      "outputs": []
    },
    {
      "cell_type": "markdown",
      "source": [
        "## Part 1: Creating Embedding Matrix from Pre-trained Glove (50 points)\n",
        "\n",
        "What you need to do is to create an embedding matrix which is a tensor with shape (vocab_size, embedidng_size). Row $i$ in the matrix is the word vector for the word of the index $i$ in the vocabulary. We are going to get those word vectors from pre-trained word vectors.\n",
        "\n",
        "We will download the pre-trained word vectors using gensim."
      ],
      "metadata": {
        "id": "BQ7s9cYxvqcz"
      }
    },
    {
      "cell_type": "code",
      "source": [
        "import gensim.downloader as api\n",
        "wv = api.load('glove-wiki-gigaword-300')"
      ],
      "metadata": {
        "colab": {
          "base_uri": "https://localhost:8080/"
        },
        "id": "ECtVPGQ5vw5i",
        "outputId": "17003936-e087-4c03-f3a8-8a176f3793dd"
      },
      "execution_count": 12,
      "outputs": [
        {
          "output_type": "stream",
          "name": "stdout",
          "text": [
            "[==================================================] 100.0% 376.1/376.1MB downloaded\n"
          ]
        }
      ]
    },
    {
      "cell_type": "markdown",
      "source": [
        "**You will need to implement the following function**\n",
        "\n",
        "Note that: words in glove model are lower-cases, so to get the vector for a word, such as \"King\", we need to convert the word into lower case first. For instance\n",
        "\n",
        "```\n",
        "print( wv[\"King\".lower()] )\n",
        "```\n",
        "\n",
        "For words in the Vocabulary but not in pre-trained word vector model, we will assign random values by:\n",
        "\n",
        "```\n",
        "torch.randn(emb_dim)\n",
        "```"
      ],
      "metadata": {
        "id": "3_v55qLZ0Bsa"
      }
    },
    {
      "cell_type": "code",
      "source": [
        "def create_embedding_matrix(wv, word_to_idx, emb_dim=300):\n",
        "    \"\"\"Create embedding matrix\n",
        "\n",
        "    Args:\n",
        "        wv: word vector model loaded from gensim\n",
        "        word_to_idx (dict): Map from a word into index in the vocab\n",
        "        emb_dim (int): Embedding size\n",
        "    \n",
        "    Returns:\n",
        "        embedding_matrix: a Torch tensor with size (vocab_size, emb_dim)\n",
        "    \"\"\"\n",
        "    vocab_size = len(word_to_idx)\n",
        "    embedding_matrix = torch.zeros(vocab_size, emb_dim)\n",
        "\n",
        "    #TODO: Write your code here\n",
        "    for word, idx in word_to_idx.items():\n",
        "      if word not in wv:\n",
        "        continue\n",
        "      embedding_matrix[idx] = torch.tensor(wv[word])\n",
        "    return embedding_matrix"
      ],
      "metadata": {
        "id": "WF5MnJ_T0bo5"
      },
      "execution_count": 18,
      "outputs": []
    },
    {
      "cell_type": "markdown",
      "source": [
        "After that, create an embedding matrix"
      ],
      "metadata": {
        "id": "PknI_VBz3c4i"
      }
    },
    {
      "cell_type": "code",
      "source": [
        "word_to_idx = vocab._token_to_idx\n",
        "embedding_matrix = create_embedding_matrix(wv, word_to_idx)"
      ],
      "metadata": {
        "id": "tYxbd6uf3f5B"
      },
      "execution_count": 14,
      "outputs": []
    },
    {
      "cell_type": "markdown",
      "source": [
        "## RNN Model\n",
        "\n",
        "We just modify the model to initialize word embedding layer by pre-trained word vectors."
      ],
      "metadata": {
        "id": "FH8dfnHz2nGJ"
      }
    },
    {
      "cell_type": "code",
      "source": [
        "import torch.nn as nn\n",
        "from torch.nn.utils.rnn import pack_padded_sequence, pad_packed_sequence\n",
        "\n",
        "class TextClassifier(nn.Module):\n",
        "\n",
        "    def __init__(self, embedding_matrix, rnn_hidden_size, num_classes,\n",
        "                 num_layers=1, batch_first=True, padding_idx=0):\n",
        "        \n",
        "        super(TextClassifier, self).__init__()\n",
        "\n",
        "        vocab_size, embedding_size = embedding_matrix.shape\n",
        "\n",
        "        self.emb = nn.Embedding.from_pretrained(embedding_matrix, freeze=False, padding_idx=0)\n",
        "        # Use Bidirectional LSTM\n",
        "        self.rnn = nn.LSTM(input_size=embedding_size, hidden_size=rnn_hidden_size,\n",
        "                          batch_first=batch_first, num_layers=num_layers, bidirectional=True)\n",
        "        self.fc = nn.Linear(in_features=2*rnn_hidden_size, out_features=num_classes)\n",
        "\n",
        "    def forward(self, x_in, x_lens):\n",
        "        x_embed = self.emb(x_in)\n",
        "        x_packed = pack_padded_sequence(x_embed, x_lens, batch_first=True, enforce_sorted=False)\n",
        "        _, (hidden_state, _) = self.rnn(x_packed)\n",
        "\n",
        "        # Concatenating the final forward and backward hidden states\n",
        "        hidden = torch.cat((hidden_state[-2,:,:], hidden_state[-1,:,:]), dim = 1)\n",
        "\n",
        "        logits = torch.sigmoid(self.fc(hidden))\n",
        "        return logits"
      ],
      "metadata": {
        "id": "sVIqXt8o22Vf"
      },
      "execution_count": 15,
      "outputs": []
    },
    {
      "cell_type": "markdown",
      "source": [
        "## Part 2: Customized Training loop (50 points)\n",
        "\n",
        "Modify the training loss to print-out averaged loss function after each epoch"
      ],
      "metadata": {
        "id": "l0Rj3pC53CwR"
      }
    },
    {
      "cell_type": "code",
      "source": [
        "from tqdm.notebook import trange, tqdm\n",
        "\n",
        "rnn_hidden_size = 128\n",
        "num_layers=1\n",
        "num_classes = 1\n",
        "batch_first = True\n",
        "\n",
        "model = TextClassifier(embedding_matrix,\n",
        "                       rnn_hidden_size=rnn_hidden_size,\n",
        "                       num_classes=num_classes, \n",
        "                       batch_first=batch_first, num_layers=num_layers)\n",
        "\n",
        "device = torch.device('cuda' if torch.cuda.is_available() else 'cpu')  \n",
        "\n",
        "learning_rate = 1e-3\n",
        "batch_size = 16\n",
        "\n",
        "# You can change epochs to 5 to save time\n",
        "epochs = 5\n",
        "\n",
        "criterion = torch.nn.BCELoss()\n",
        "optimizer = torch.optim.Adam(model.parameters(), lr=learning_rate)\n",
        "model.to(device)\n",
        "\n",
        "def train():\n",
        "    train_dataloader = DataLoader(\n",
        "        train_dataset,\n",
        "        collate_fn=collate_batch,\n",
        "        batch_size=batch_size,\n",
        "    )\n",
        "    model.train()\n",
        "    train_iterator = trange(int(epochs), desc=\"Epoch\")\n",
        "\n",
        "    for epoch in train_iterator:\n",
        "        epoch_loss = 0\n",
        "        num_batches = 0\n",
        "\n",
        "        for x_in, x_lens, y in train_dataloader:\n",
        "            x_in = x_in.to(device)\n",
        "            y = y.to(device)\n",
        "\n",
        "            optimizer.zero_grad()\n",
        "            pred = model(x_in, x_lens).squeeze()\n",
        "            loss = criterion(pred, y)\n",
        "            loss.backward()\n",
        "            optimizer.step()\n",
        "\n",
        "            #TODO: Write code to add the loss value to epoch_loss and increase num_batches\n",
        "            epoch_loss += loss.item()\n",
        "            num_batches += 1\n",
        "        avg_epoch_loss = epoch_loss / num_batches\n",
        "        print(f\"Epoch [{epoch + 1}/{epochs}] - Average Loss: {avg_epoch_loss}\")\n",
        "\n",
        "train()"
      ],
      "metadata": {
        "id": "P129p8Rl3Owb",
        "colab": {
          "base_uri": "https://localhost:8080/",
          "height": 136,
          "referenced_widgets": [
            "a008736e6ac14bad9036135df4ac52e8",
            "a89ab31181da49068c0d4fe1fe8642d0",
            "aa745a0a28654316aa4b1a906b464ce5",
            "f2833796525d48ecaa41af5e1944c74c",
            "a046a4546115423894c41d51b709df68",
            "84cf4b6976d14974bfa3de23402f8544",
            "91771307c18f4018905403055c4710a7",
            "dce85b7a77fe43d097ffbccaf3e1922a",
            "c75c8001194b40858cc19ad012ec3ef2",
            "22a157d0364f44d0836e91345353a605",
            "14df127e6e444c3282b94aff81bdc176"
          ]
        },
        "outputId": "ee3725fb-8085-4ce4-c551-81bdcdb21b70"
      },
      "execution_count": 19,
      "outputs": [
        {
          "output_type": "display_data",
          "data": {
            "text/plain": [
              "Epoch:   0%|          | 0/5 [00:00<?, ?it/s]"
            ],
            "application/vnd.jupyter.widget-view+json": {
              "version_major": 2,
              "version_minor": 0,
              "model_id": "a008736e6ac14bad9036135df4ac52e8"
            }
          },
          "metadata": {}
        },
        {
          "output_type": "stream",
          "name": "stdout",
          "text": [
            "Epoch [1/5] - Average Loss: 0.08545662466248315\n",
            "Epoch [2/5] - Average Loss: 0.01837616881646156\n",
            "Epoch [3/5] - Average Loss: 0.004731420426074826\n",
            "Epoch [4/5] - Average Loss: 0.004511315769418912\n",
            "Epoch [5/5] - Average Loss: 0.0005590687131621971\n"
          ]
        }
      ]
    },
    {
      "cell_type": "markdown",
      "source": [
        "## Evaluation\n",
        "\n",
        "If there are no bug in your code, you should be able to calcuate evaluation metrics on the test data."
      ],
      "metadata": {
        "id": "oL2zyXS64ViK"
      }
    },
    {
      "cell_type": "code",
      "source": [
        "from sklearn import metrics\n",
        "\n",
        "def evaluate():\n",
        "    model.eval()\n",
        "    test_dataloader = DataLoader(\n",
        "        test_dataset,\n",
        "        collate_fn=collate_batch,\n",
        "        shuffle=False,\n",
        "        batch_size=batch_size,\n",
        "    )\n",
        "\n",
        "    preds = []\n",
        "    true_labels = []\n",
        "    with torch.no_grad():\n",
        "        for x_in, x_lens, y in tqdm(test_dataloader, desc=\"Evaluating\"):\n",
        "            x_in = x_in.to(device)\n",
        "            y = y.to(device)\n",
        "\n",
        "            logits = model(x_in, x_lens).squeeze()\n",
        "            _preds = (logits>0.5).type(torch.long)\n",
        "            preds += _preds.detach().cpu().numpy().tolist()\n",
        "            true_labels += y.detach().cpu().numpy().tolist()\n",
        "\n",
        "    print(metrics.classification_report(true_labels, preds))\n",
        "\n",
        "evaluate()"
      ],
      "metadata": {
        "id": "5JUpL6es4XbM",
        "colab": {
          "base_uri": "https://localhost:8080/",
          "height": 205,
          "referenced_widgets": [
            "9e158d70add241fc9ca677a8907a9e54",
            "ae4b521fdc614aa78200150686d5759a",
            "0a657d734d904686b28f1ee0f0d23c18",
            "7c6f766261224d69a82ba5452014f981",
            "e90c85cb54824fadb121b21c439ec8c2",
            "640be333fa9646babe53ed760d85f0ae",
            "8e96e6112f2f4dfcb42e9a69aa0c516b",
            "8193c710c3664e03ac0ba12af0d73ea5",
            "dadb60ea6c424de48a62978908f8f105",
            "8207d6d8fcbc4ddc8a397483210147ce",
            "80c5e5ac32a94458a6c8fafc8dd703e4"
          ]
        },
        "outputId": "e4a80bc6-e09c-48e4-91a1-c060ccf39e64"
      },
      "execution_count": 20,
      "outputs": [
        {
          "output_type": "display_data",
          "data": {
            "text/plain": [
              "Evaluating:   0%|          | 0/177 [00:00<?, ?it/s]"
            ],
            "application/vnd.jupyter.widget-view+json": {
              "version_major": 2,
              "version_minor": 0,
              "model_id": "9e158d70add241fc9ca677a8907a9e54"
            }
          },
          "metadata": {}
        },
        {
          "output_type": "stream",
          "name": "stdout",
          "text": [
            "              precision    recall  f1-score   support\n",
            "\n",
            "         0.0       0.93      0.94      0.93      1477\n",
            "         1.0       0.93      0.92      0.92      1346\n",
            "\n",
            "    accuracy                           0.93      2823\n",
            "   macro avg       0.93      0.93      0.93      2823\n",
            "weighted avg       0.93      0.93      0.93      2823\n",
            "\n"
          ]
        }
      ]
    }
  ]
}